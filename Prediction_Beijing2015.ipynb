{
 "cells": [
  {
   "cell_type": "code",
   "execution_count": null,
   "metadata": {
    "collapsed": true
   },
   "outputs": [],
   "source": []
  },
  {
   "cell_type": "code",
   "execution_count": null,
   "metadata": {
    "collapsed": true
   },
   "outputs": [],
   "source": []
  },
  {
   "cell_type": "code",
   "execution_count": 1,
   "metadata": {
    "collapsed": true
   },
   "outputs": [],
   "source": [
    "# import modules\n",
    "import pandas as pd\n",
    "import numpy as np\n",
    "from patsy import dmatrices\n",
    "from sklearn import model_selection\n",
    "from sklearn import preprocessing\n",
    "from sklearn import neighbors\n",
    "from sklearn import metrics\n",
    "from sklearn.model_selection import GridSearchCV\n",
    "from sklearn.neighbors import KNeighborsRegressor"
   ]
  },
  {
   "cell_type": "code",
   "execution_count": null,
   "metadata": {
    "collapsed": true
   },
   "outputs": [],
   "source": []
  },
  {
   "cell_type": "code",
   "execution_count": 2,
   "metadata": {
    "scrolled": true
   },
   "outputs": [
    {
     "data": {
      "text/html": [
       "<div>\n",
       "<style>\n",
       "    .dataframe thead tr:only-child th {\n",
       "        text-align: right;\n",
       "    }\n",
       "\n",
       "    .dataframe thead th {\n",
       "        text-align: left;\n",
       "    }\n",
       "\n",
       "    .dataframe tbody tr th {\n",
       "        vertical-align: top;\n",
       "    }\n",
       "</style>\n",
       "<table border=\"1\" class=\"dataframe\">\n",
       "  <thead>\n",
       "    <tr style=\"text-align: right;\">\n",
       "      <th></th>\n",
       "      <th>Unnamed: 0</th>\n",
       "      <th>No</th>\n",
       "      <th>year</th>\n",
       "      <th>month</th>\n",
       "      <th>day</th>\n",
       "      <th>hour</th>\n",
       "      <th>season</th>\n",
       "      <th>AQI</th>\n",
       "      <th>PM_Dongsi</th>\n",
       "      <th>PM_Dongsihuan</th>\n",
       "      <th>PM_Nongzhanguan</th>\n",
       "      <th>PM_US Post</th>\n",
       "      <th>DEWP</th>\n",
       "      <th>HUMI</th>\n",
       "      <th>PRES</th>\n",
       "      <th>TEMP</th>\n",
       "      <th>cbwd</th>\n",
       "      <th>Iws</th>\n",
       "      <th>precipitation</th>\n",
       "      <th>Iprec</th>\n",
       "    </tr>\n",
       "  </thead>\n",
       "  <tbody>\n",
       "    <tr>\n",
       "      <th>0</th>\n",
       "      <td>43824</td>\n",
       "      <td>43825</td>\n",
       "      <td>2015</td>\n",
       "      <td>1</td>\n",
       "      <td>1</td>\n",
       "      <td>0</td>\n",
       "      <td>4</td>\n",
       "      <td>114.0</td>\n",
       "      <td>5.0</td>\n",
       "      <td>32.0</td>\n",
       "      <td>8.0</td>\n",
       "      <td>22.0</td>\n",
       "      <td>-21.0</td>\n",
       "      <td>29.0</td>\n",
       "      <td>1034.0</td>\n",
       "      <td>-6.0</td>\n",
       "      <td>SE</td>\n",
       "      <td>0.89</td>\n",
       "      <td>0.0</td>\n",
       "      <td>0.0</td>\n",
       "    </tr>\n",
       "    <tr>\n",
       "      <th>1</th>\n",
       "      <td>43825</td>\n",
       "      <td>43826</td>\n",
       "      <td>2015</td>\n",
       "      <td>1</td>\n",
       "      <td>1</td>\n",
       "      <td>1</td>\n",
       "      <td>4</td>\n",
       "      <td>104.0</td>\n",
       "      <td>4.0</td>\n",
       "      <td>12.0</td>\n",
       "      <td>7.0</td>\n",
       "      <td>9.0</td>\n",
       "      <td>-22.0</td>\n",
       "      <td>23.0</td>\n",
       "      <td>1034.0</td>\n",
       "      <td>-4.0</td>\n",
       "      <td>NW</td>\n",
       "      <td>4.92</td>\n",
       "      <td>0.0</td>\n",
       "      <td>0.0</td>\n",
       "    </tr>\n",
       "    <tr>\n",
       "      <th>2</th>\n",
       "      <td>43826</td>\n",
       "      <td>43827</td>\n",
       "      <td>2015</td>\n",
       "      <td>1</td>\n",
       "      <td>1</td>\n",
       "      <td>2</td>\n",
       "      <td>4</td>\n",
       "      <td>92.0</td>\n",
       "      <td>3.0</td>\n",
       "      <td>19.0</td>\n",
       "      <td>7.0</td>\n",
       "      <td>9.0</td>\n",
       "      <td>-21.0</td>\n",
       "      <td>27.0</td>\n",
       "      <td>1034.0</td>\n",
       "      <td>-5.0</td>\n",
       "      <td>NW</td>\n",
       "      <td>8.94</td>\n",
       "      <td>0.0</td>\n",
       "      <td>0.0</td>\n",
       "    </tr>\n",
       "    <tr>\n",
       "      <th>3</th>\n",
       "      <td>43827</td>\n",
       "      <td>43828</td>\n",
       "      <td>2015</td>\n",
       "      <td>1</td>\n",
       "      <td>1</td>\n",
       "      <td>3</td>\n",
       "      <td>4</td>\n",
       "      <td>64.0</td>\n",
       "      <td>4.0</td>\n",
       "      <td>9.0</td>\n",
       "      <td>11.0</td>\n",
       "      <td>13.0</td>\n",
       "      <td>-21.0</td>\n",
       "      <td>29.0</td>\n",
       "      <td>1035.0</td>\n",
       "      <td>-6.0</td>\n",
       "      <td>NW</td>\n",
       "      <td>12.96</td>\n",
       "      <td>0.0</td>\n",
       "      <td>0.0</td>\n",
       "    </tr>\n",
       "    <tr>\n",
       "      <th>4</th>\n",
       "      <td>43828</td>\n",
       "      <td>43829</td>\n",
       "      <td>2015</td>\n",
       "      <td>1</td>\n",
       "      <td>1</td>\n",
       "      <td>4</td>\n",
       "      <td>4</td>\n",
       "      <td>48.0</td>\n",
       "      <td>3.0</td>\n",
       "      <td>11.0</td>\n",
       "      <td>5.0</td>\n",
       "      <td>10.0</td>\n",
       "      <td>-21.0</td>\n",
       "      <td>27.0</td>\n",
       "      <td>1034.0</td>\n",
       "      <td>-5.0</td>\n",
       "      <td>NW</td>\n",
       "      <td>16.98</td>\n",
       "      <td>0.0</td>\n",
       "      <td>0.0</td>\n",
       "    </tr>\n",
       "  </tbody>\n",
       "</table>\n",
       "</div>"
      ],
      "text/plain": [
       "   Unnamed: 0     No  year  month  day  hour  season    AQI  PM_Dongsi  \\\n",
       "0       43824  43825  2015      1    1     0       4  114.0        5.0   \n",
       "1       43825  43826  2015      1    1     1       4  104.0        4.0   \n",
       "2       43826  43827  2015      1    1     2       4   92.0        3.0   \n",
       "3       43827  43828  2015      1    1     3       4   64.0        4.0   \n",
       "4       43828  43829  2015      1    1     4       4   48.0        3.0   \n",
       "\n",
       "   PM_Dongsihuan  PM_Nongzhanguan  PM_US Post  DEWP  HUMI    PRES  TEMP cbwd  \\\n",
       "0           32.0              8.0        22.0 -21.0  29.0  1034.0  -6.0   SE   \n",
       "1           12.0              7.0         9.0 -22.0  23.0  1034.0  -4.0   NW   \n",
       "2           19.0              7.0         9.0 -21.0  27.0  1034.0  -5.0   NW   \n",
       "3            9.0             11.0        13.0 -21.0  29.0  1035.0  -6.0   NW   \n",
       "4           11.0              5.0        10.0 -21.0  27.0  1034.0  -5.0   NW   \n",
       "\n",
       "     Iws  precipitation  Iprec  \n",
       "0   0.89            0.0    0.0  \n",
       "1   4.92            0.0    0.0  \n",
       "2   8.94            0.0    0.0  \n",
       "3  12.96            0.0    0.0  \n",
       "4  16.98            0.0    0.0  "
      ]
     },
     "execution_count": 2,
     "metadata": {},
     "output_type": "execute_result"
    }
   ],
   "source": [
    "dat_pred = pd.read_csv('Beijing2015.csv')\n",
    "dat_pred.head()"
   ]
  },
  {
   "cell_type": "code",
   "execution_count": 3,
   "metadata": {
    "collapsed": true
   },
   "outputs": [],
   "source": [
    "dat_pred['cbwd'].replace('SE',0,inplace=True)\n",
    "dat_pred['cbwd'].replace('NW',1,inplace=True)\n",
    "dat_pred['cbwd'].replace('NE',2,inplace=True)\n",
    "dat_pred['cbwd'].replace('cv',3,inplace=True)"
   ]
  },
  {
   "cell_type": "code",
   "execution_count": 4,
   "metadata": {
    "collapsed": true
   },
   "outputs": [],
   "source": [
    "# Transform the variables season, month and combined wind direction into string\n",
    "dat_pred.season = dat_pred.season.astype('str')\n",
    "dat_pred.month = dat_pred.month.astype('str')\n",
    "dat_pred.cbwd = dat_pred.cbwd.astype('str')\n",
    "dat_pred.year = dat_pred.year.astype('str')"
   ]
  },
  {
   "cell_type": "markdown",
   "metadata": {},
   "source": [
    "Create the design matric, X include month, season, humidity, temperature, combined wind direction, combined wind speed, precipitation, cumulative precipitation"
   ]
  },
  {
   "cell_type": "code",
   "execution_count": 5,
   "metadata": {
    "collapsed": true
   },
   "outputs": [],
   "source": [
    "# Create the design matrix\n",
    "y, X = dmatrices('AQI ~  0 + year + month + season + HUMI + TEMP'+ \n",
    "                 '+ cbwd + Iws + precipitation + Iprec ',\n",
    "                 data=dat_pred,\n",
    "                 return_type='dataframe')"
   ]
  },
  {
   "cell_type": "markdown",
   "metadata": {},
   "source": [
    "Normalize the datasets. Split the datasets into 30% test data and 70% training data. "
   ]
  },
  {
   "cell_type": "code",
   "execution_count": 6,
   "metadata": {
    "collapsed": true
   },
   "outputs": [],
   "source": [
    "# Normalize the X and Y variables\n",
    "X_scale = preprocessing.MinMaxScaler().fit_transform(X)\n",
    "y_scale = preprocessing.MinMaxScaler().fit_transform(y)"
   ]
  },
  {
   "cell_type": "code",
   "execution_count": 7,
   "metadata": {
    "collapsed": true
   },
   "outputs": [],
   "source": [
    "# 30-70% simple split\n",
    "# To make the result reproducible, set the random_state\n",
    "train_y,test_y,train_X,test_X = model_selection.train_test_split(y, X,\n",
    "                                                                 test_size=0.3,\n",
    "                                                                 random_state=123)"
   ]
  },
  {
   "cell_type": "code",
   "execution_count": 8,
   "metadata": {
    "collapsed": true
   },
   "outputs": [],
   "source": [
    "# 30-70% simple split for the scaled data\n",
    "# To make the result reproducible, set the random_state\n",
    "train_y_scale,test_y_scale,train_X_scale,test_X_scale = model_selection.train_test_split(y_scale, X_scale,\n",
    "                                                                 test_size=0.3,\n",
    "                                                                 random_state=123)"
   ]
  },
  {
   "cell_type": "code",
   "execution_count": 9,
   "metadata": {},
   "outputs": [
    {
     "data": {
      "text/plain": [
       "(5160, 23)"
      ]
     },
     "execution_count": 9,
     "metadata": {},
     "output_type": "execute_result"
    }
   ],
   "source": [
    "train_X.shape"
   ]
  },
  {
   "cell_type": "code",
   "execution_count": 10,
   "metadata": {},
   "outputs": [
    {
     "data": {
      "text/plain": [
       "(5160, 1)"
      ]
     },
     "execution_count": 10,
     "metadata": {},
     "output_type": "execute_result"
    }
   ],
   "source": [
    "train_y.shape"
   ]
  },
  {
   "cell_type": "markdown",
   "metadata": {},
   "source": [
    "## Predictive Modeling"
   ]
  },
  {
   "cell_type": "markdown",
   "metadata": {},
   "source": [
    "In the predictive modelding part, K-Nearest Neighbors, regression tree, neural network and random forest will be utilized in order to predict the Air Quality Index. "
   ]
  },
  {
   "cell_type": "markdown",
   "metadata": {},
   "source": [
    "## K-Nearest Neighbors"
   ]
  },
  {
   "cell_type": "code",
   "execution_count": 11,
   "metadata": {},
   "outputs": [
    {
     "data": {
      "text/plain": [
       "GridSearchCV(cv=None, error_score='raise',\n",
       "       estimator=KNeighborsRegressor(algorithm='auto', leaf_size=30, metric='minkowski',\n",
       "          metric_params=None, n_jobs=1, n_neighbors=5, p=2,\n",
       "          weights='uniform'),\n",
       "       fit_params=None, iid=True, n_jobs=1,\n",
       "       param_grid={'n_neighbors': array([ 1,  2,  3,  4,  5,  6,  7,  8,  9, 10, 11, 12, 13, 14, 15, 16, 17,\n",
       "       18, 19, 20, 21, 22, 23, 24, 25, 26, 27, 28, 29, 30]), 'weights': ['uniform'], 'algorithm': ['auto']},\n",
       "       pre_dispatch='2*n_jobs', refit=True, return_train_score=True,\n",
       "       scoring=None, verbose=0)"
      ]
     },
     "execution_count": 11,
     "metadata": {},
     "output_type": "execute_result"
    }
   ],
   "source": [
    "# tune the parameters using the GridSearchCV\n",
    "knn = KNeighborsRegressor()\n",
    "\n",
    "params = {'n_neighbors': np.arange(1,31),\n",
    "          'weights':['uniform'],\n",
    "          'algorithm':['auto']}\n",
    "\n",
    "model_knn = GridSearchCV(knn, param_grid = params)\n",
    "\n",
    "# fit the model\n",
    "model_knn.fit(train_X_scale,train_y_scale)"
   ]
  },
  {
   "cell_type": "code",
   "execution_count": 12,
   "metadata": {},
   "outputs": [
    {
     "data": {
      "text/plain": [
       "{'algorithm': 'auto', 'n_neighbors': 7, 'weights': 'uniform'}"
      ]
     },
     "execution_count": 12,
     "metadata": {},
     "output_type": "execute_result"
    }
   ],
   "source": [
    " model_knn.best_params_"
   ]
  },
  {
   "cell_type": "code",
   "execution_count": 13,
   "metadata": {
    "collapsed": true
   },
   "outputs": [],
   "source": [
    "knn_final = neighbors.KNeighborsRegressor(n_neighbors = 7,\n",
    "                                     weights = 'uniform',\n",
    "                                     algorithm = 'auto')\n",
    "\n",
    "knn_final.fit(train_X,train_y_s)\n",
    "pred_y_knnfinal = knn_final.predict(test_X_scale)"
   ]
  },
  {
   "cell_type": "code",
   "execution_count": 14,
   "metadata": {
    "collapsed": true
   },
   "outputs": [],
   "source": [
    "# Import the matplotlib.pyplot\n",
    "import matplotlib.pyplot as plt\n",
    "\n",
    "# Enable inline plotting in notebook\n",
    "%matplotlib inline"
   ]
  },
  {
   "cell_type": "code",
   "execution_count": 15,
   "metadata": {},
   "outputs": [
    {
     "data": {
      "text/plain": [
       "<matplotlib.text.Text at 0x118858240>"
      ]
     },
     "execution_count": 15,
     "metadata": {},
     "output_type": "execute_result"
    },
    {
     "data": {
      "image/png": "[encoded data removed]",
      "text/plain": [
       "<matplotlib.figure.Figure at 0x1155a66a0>"
      ]
     },
     "metadata": {},
     "output_type": "display_data"
    }
   ],
   "source": [
    "plt.scatter(test_y_scale, pred_y_knnfinal)\n",
    "plt.xlabel('Actual AQI')\n",
    "plt.ylabel('Predicted AQI')"
   ]
  },
  {
   "cell_type": "code",
   "execution_count": 16,
   "metadata": {},
   "outputs": [
    {
     "data": {
      "text/plain": [
       "111.82546486378325"
      ]
     },
     "execution_count": 16,
     "metadata": {},
     "output_type": "execute_result"
    }
   ],
   "source": [
    "# Calculate MAE\n",
    "metrics.mean_absolute_error(test_y, pred_y_knnfinal)"
   ]
  },
  {
   "cell_type": "code",
   "execution_count": 17,
   "metadata": {},
   "outputs": [
    {
     "data": {
      "text/plain": [
       "20480.033762540752"
      ]
     },
     "execution_count": 17,
     "metadata": {},
     "output_type": "execute_result"
    }
   ],
   "source": [
    "# Calculate MSE\n",
    "metrics.regression.mean_squared_error(test_y, pred_y_knnfinal)"
   ]
  },
  {
   "cell_type": "code",
   "execution_count": 19,
   "metadata": {},
   "outputs": [
    {
     "data": {
      "text/plain": [
       "0.33375431086665441"
      ]
     },
     "execution_count": 19,
     "metadata": {},
     "output_type": "execute_result"
    }
   ],
   "source": [
    "# Calculate R squared\n",
    "metrics.r2_score(test_y_scale, pred_y_knnfinal)"
   ]
  },
  {
   "cell_type": "markdown",
   "metadata": {},
   "source": [
    "## Regression Tree"
   ]
  },
  {
   "cell_type": "code",
   "execution_count": 40,
   "metadata": {
    "collapsed": true
   },
   "outputs": [],
   "source": [
    "from sklearn import tree\n",
    "from sklearn.tree import DecisionTreeRegressor"
   ]
  },
  {
   "cell_type": "code",
   "execution_count": 41,
   "metadata": {
    "collapsed": true
   },
   "outputs": [],
   "source": [
    "# initial model\n",
    "tree = DecisionTreeRegressor()\n",
    "\n",
    "params = {'min_samples_split': np.arange(2,81)}\n",
    "\n",
    "model_tree = GridSearchCV(tree, param_grid=params)\n",
    "\n",
    "# fit the model\n",
    "model_tree.fit(train_X,train_y)\n",
    "\n",
    "#prediction\n",
    "prediction_tree = model_tree.predict(test_X)"
   ]
  },
  {
   "cell_type": "code",
   "execution_count": 42,
   "metadata": {},
   "outputs": [
    {
     "data": {
      "text/plain": [
       "{'min_samples_split': 80}"
      ]
     },
     "execution_count": 42,
     "metadata": {},
     "output_type": "execute_result"
    }
   ],
   "source": [
    " model_tree.best_params_"
   ]
  },
  {
   "cell_type": "code",
   "execution_count": 43,
   "metadata": {
    "collapsed": true
   },
   "outputs": [],
   "source": [
    "tree_final = DecisionTreeRegressor(min_samples_split = 80)\n",
    "tree_final.fit(train_X,train_y)\n",
    "pred_y_treefinal = tree_final.predict(test_X)"
   ]
  },
  {
   "cell_type": "code",
   "execution_count": 44,
   "metadata": {},
   "outputs": [
    {
     "data": {
      "text/plain": [
       "<matplotlib.text.Text at 0x11b15a860>"
      ]
     },
     "execution_count": 44,
     "metadata": {},
     "output_type": "execute_result"
    },
    {
     "data": {
      "image/png": "[encoded data removed]",
      "text/plain": [
       "<matplotlib.figure.Figure at 0x11b11a898>"
      ]
     },
     "metadata": {},
     "output_type": "display_data"
    }
   ],
   "source": [
    "plt.scatter(test_y, pred_y_treefinal, color = 'red')\n",
    "plt.xlabel('Actual AQI')\n",
    "plt.ylabel('Predicted AQI')"
   ]
  },
  {
   "cell_type": "code",
   "execution_count": 45,
   "metadata": {},
   "outputs": [
    {
     "data": {
      "text/plain": [
       "55.403142499543783"
      ]
     },
     "execution_count": 45,
     "metadata": {},
     "output_type": "execute_result"
    }
   ],
   "source": [
    "# Calculate MAE\n",
    "metrics.mean_absolute_error(test_y, pred_y_treefinal)"
   ]
  },
  {
   "cell_type": "code",
   "execution_count": 46,
   "metadata": {},
   "outputs": [
    {
     "data": {
      "text/plain": [
       "5655.6275209650457"
      ]
     },
     "execution_count": 46,
     "metadata": {},
     "output_type": "execute_result"
    }
   ],
   "source": [
    "# Calculate MSE\n",
    "metrics.regression.mean_squared_error(test_y, pred_y_treefinal)"
   ]
  },
  {
   "cell_type": "code",
   "execution_count": 47,
   "metadata": {},
   "outputs": [
    {
     "data": {
      "text/plain": [
       "0.29197665838146358"
      ]
     },
     "execution_count": 47,
     "metadata": {},
     "output_type": "execute_result"
    }
   ],
   "source": [
    "# Calculate R squared\n",
    "metrics.r2_score(test_y, pred_y_treefinal)"
   ]
  },
  {
   "cell_type": "markdown",
   "metadata": {},
   "source": [
    "## Neural Network "
   ]
  },
  {
   "cell_type": "code",
   "execution_count": 48,
   "metadata": {
    "collapsed": true
   },
   "outputs": [],
   "source": [
    "from sklearn.neural_network import MLPRegressor"
   ]
  },
  {
   "cell_type": "code",
   "execution_count": 49,
   "metadata": {
    "collapsed": true
   },
   "outputs": [],
   "source": [
    "import warnings\n",
    "warnings.filterwarnings('ignore')\n",
    "# initial model\n",
    "ann = MLPRegressor()\n",
    "\n",
    "# tune the hyperparameter\n",
    "params = {'hidden_layer_sizes':[(300,), (250,), (200,), \n",
    "                     (150,),  (100,), (50,), (50,10), (9,7,5,3)]}\n",
    "\n",
    "model_ann = GridSearchCV(ann, param_grid=params)\n",
    "\n",
    "# fit the model\n",
    "model_ann.fit(train_X_scale,train_y_scale)\n",
    "\n",
    "# prediction\n",
    "prediction_ann = model_ann.predict(test_X_scale)"
   ]
  },
  {
   "cell_type": "code",
   "execution_count": 50,
   "metadata": {},
   "outputs": [
    {
     "data": {
      "text/plain": [
       "{'hidden_layer_sizes': (300,)}"
      ]
     },
     "execution_count": 50,
     "metadata": {},
     "output_type": "execute_result"
    }
   ],
   "source": [
    "model_ann.best_params_"
   ]
  },
  {
   "cell_type": "code",
   "execution_count": 51,
   "metadata": {
    "collapsed": true
   },
   "outputs": [],
   "source": [
    "ann_final = MLPRegressor(hidden_layer_sizes =(300,))\n",
    "ann_final.fit(train_X_scale,train_y_scale)\n",
    "pred_y_annfinal = ann_final.predict(test_X_scale)"
   ]
  },
  {
   "cell_type": "code",
   "execution_count": 53,
   "metadata": {},
   "outputs": [
    {
     "data": {
      "text/plain": [
       "<matplotlib.text.Text at 0x117802160>"
      ]
     },
     "execution_count": 53,
     "metadata": {},
     "output_type": "execute_result"
    },
    {
     "data": {
      "image/png": "[encoded data removed]",
      "text/plain": [
       "<matplotlib.figure.Figure at 0x11b234ac8>"
      ]
     },
     "metadata": {},
     "output_type": "display_data"
    }
   ],
   "source": [
    "plt.scatter(test_y_scale, pred_y_annfinal, color = 'green')\n",
    "plt.xlabel('Actual AQI')\n",
    "plt.ylabel('Predicted AQI')"
   ]
  },
  {
   "cell_type": "code",
   "execution_count": 80,
   "metadata": {},
   "outputs": [
    {
     "data": {
      "text/plain": [
       "0.11754624892640628"
      ]
     },
     "execution_count": 80,
     "metadata": {},
     "output_type": "execute_result"
    }
   ],
   "source": [
    "# Calculate MAE\n",
    "metrics.mean_absolute_error(test_y_scale, pred_y_annfinal)"
   ]
  },
  {
   "cell_type": "code",
   "execution_count": 54,
   "metadata": {},
   "outputs": [
    {
     "data": {
      "text/plain": [
       "0.026274462856991601"
      ]
     },
     "execution_count": 54,
     "metadata": {},
     "output_type": "execute_result"
    }
   ],
   "source": [
    "# Calculate MSE\n",
    "metrics.regression.mean_squared_error(test_y_scale, pred_y_annfinal)"
   ]
  },
  {
   "cell_type": "code",
   "execution_count": 56,
   "metadata": {},
   "outputs": [
    {
     "data": {
      "text/plain": [
       "0.21667810373944985"
      ]
     },
     "execution_count": 56,
     "metadata": {},
     "output_type": "execute_result"
    }
   ],
   "source": [
    "# Calculate R squared\n",
    "metrics.r2_score(test_y_scale, pred_y_annfinal)"
   ]
  },
  {
   "cell_type": "markdown",
   "metadata": {},
   "source": [
    "## Random Foreset"
   ]
  },
  {
   "cell_type": "code",
   "execution_count": 57,
   "metadata": {
    "collapsed": true
   },
   "outputs": [],
   "source": [
    "from sklearn.ensemble import RandomForestRegressor"
   ]
  },
  {
   "cell_type": "code",
   "execution_count": 58,
   "metadata": {
    "collapsed": true
   },
   "outputs": [],
   "source": [
    "rf = RandomForestRegressor(n_estimators=5, max_features=10, random_state=123)"
   ]
  },
  {
   "cell_type": "code",
   "execution_count": 59,
   "metadata": {},
   "outputs": [
    {
     "data": {
      "text/plain": [
       "RandomForestRegressor(bootstrap=True, criterion='mse', max_depth=None,\n",
       "           max_features=10, max_leaf_nodes=None, min_impurity_decrease=0.0,\n",
       "           min_impurity_split=None, min_samples_leaf=1,\n",
       "           min_samples_split=2, min_weight_fraction_leaf=0.0,\n",
       "           n_estimators=5, n_jobs=1, oob_score=False, random_state=123,\n",
       "           verbose=0, warm_start=False)"
      ]
     },
     "execution_count": 59,
     "metadata": {},
     "output_type": "execute_result"
    }
   ],
   "source": [
    "rf.fit(train_X,train_y)"
   ]
  },
  {
   "cell_type": "code",
   "execution_count": 60,
   "metadata": {},
   "outputs": [
    {
     "data": {
      "text/plain": [
       "array([ 0.00780326,  0.00484556,  0.10639225,  0.001959  ,  0.00910149,\n",
       "        0.00771608,  0.00466666,  0.00460584,  0.00599993,  0.00300541,\n",
       "        0.01276056,  0.00405934,  0.00808381,  0.00754652,  0.01016253,\n",
       "        0.02360167,  0.02163782,  0.23880955,  0.2700839 ,  0.23380975,\n",
       "        0.00651931,  0.00682977])"
      ]
     },
     "execution_count": 60,
     "metadata": {},
     "output_type": "execute_result"
    }
   ],
   "source": [
    "# Show feature importance\n",
    "rf.feature_importances_"
   ]
  },
  {
   "cell_type": "code",
   "execution_count": 62,
   "metadata": {
    "collapsed": true
   },
   "outputs": [],
   "source": [
    "# Beautify the display of feature importance\n",
    "feature_importances = pd.DataFrame(rf.feature_importances_,\n",
    "                                   index = train_X.columns,\n",
    "                                   columns=['importance'])\n",
    "feature_importances = feature_importances.sort_values('importance',ascending=False)"
   ]
  },
  {
   "cell_type": "code",
   "execution_count": 63,
   "metadata": {},
   "outputs": [
    {
     "data": {
      "text/plain": [
       "<matplotlib.axes._subplots.AxesSubplot at 0x11753e438>"
      ]
     },
     "execution_count": 63,
     "metadata": {},
     "output_type": "execute_result"
    },
    {
     "data": {
      "image/png": "[encoded data removed]",
      "text/plain": [
       "<matplotlib.figure.Figure at 0x1173bfd30>"
      ]
     },
     "metadata": {},
     "output_type": "display_data"
    }
   ],
   "source": [
    "feature_importances.plot(kind = 'bar',figsize=(15,5),\n",
    "                         title='Feature Importance of AQI dataset')"
   ]
  },
  {
   "cell_type": "code",
   "execution_count": 67,
   "metadata": {},
   "outputs": [
    {
     "data": {
      "text/plain": [
       "GridSearchCV(cv=None, error_score='raise',\n",
       "       estimator=RandomForestRegressor(bootstrap=True, criterion='mse', max_depth=None,\n",
       "           max_features='auto', max_leaf_nodes=None,\n",
       "           min_impurity_decrease=0.0, min_impurity_split=None,\n",
       "           min_samples_leaf=1, min_samples_split=2,\n",
       "           min_weight_fraction_leaf=0.0, n_estimators=10, n_jobs=1,\n",
       "           oob_score=False, random_state=None, verbose=0, warm_start=False),\n",
       "       fit_params=None, iid=True, n_jobs=1,\n",
       "       param_grid={'n_estimators': [10, 50, 80, 100, 200, 300, 400, 500], 'max_features': [1, 2, 3, 4, 5, 10], 'random_state': [123]},\n",
       "       pre_dispatch='2*n_jobs', refit=True, return_train_score=True,\n",
       "       scoring=None, verbose=0)"
      ]
     },
     "execution_count": 67,
     "metadata": {},
     "output_type": "execute_result"
    }
   ],
   "source": [
    "rf2 = RandomForestRegressor()\n",
    "\n",
    "parameters = {'n_estimators':[10,50,80,100,200,300,400,500],\n",
    "              'max_features':[1,2,3,4,5,10],\n",
    "              'random_state':[123]}\n",
    "\n",
    "grid_rf = model_selection.GridSearchCV(rf2, parameters)\n",
    "\n",
    "grid_rf.fit(train_X,train_y)"
   ]
  },
  {
   "cell_type": "code",
   "execution_count": 68,
   "metadata": {},
   "outputs": [
    {
     "data": {
      "text/plain": [
       "{'max_features': 10, 'n_estimators': 400, 'random_state': 123}"
      ]
     },
     "execution_count": 68,
     "metadata": {},
     "output_type": "execute_result"
    }
   ],
   "source": [
    "# Show best parameters\n",
    "grid_rf.best_params_"
   ]
  },
  {
   "cell_type": "code",
   "execution_count": 70,
   "metadata": {
    "collapsed": true
   },
   "outputs": [],
   "source": [
    "# Train a new RF with best parameters\n",
    "rf_final = RandomForestRegressor(n_estimators=400, \n",
    "                                  max_features=10, \n",
    "                                  random_state=123)"
   ]
  },
  {
   "cell_type": "code",
   "execution_count": 74,
   "metadata": {
    "collapsed": true
   },
   "outputs": [],
   "source": [
    "# Predict on test set\n",
    "pred_y_rffinal = rf_final.predict(test_X)"
   ]
  },
  {
   "cell_type": "code",
   "execution_count": 75,
   "metadata": {},
   "outputs": [
    {
     "data": {
      "text/plain": [
       "<matplotlib.text.Text at 0x116dc1748>"
      ]
     },
     "execution_count": 75,
     "metadata": {},
     "output_type": "execute_result"
    },
    {
     "data": {
      "image/png": "[encoded data removed]",
      "text/plain": [
       "<matplotlib.figure.Figure at 0x133908860>"
      ]
     },
     "metadata": {},
     "output_type": "display_data"
    }
   ],
   "source": [
    "plt.scatter(test_y, pred_y_rffinal, color = 'purple')\n",
    "plt.xlabel('Actual AQI')\n",
    "plt.ylabel('Predicted AQI')"
   ]
  },
  {
   "cell_type": "code",
   "execution_count": 81,
   "metadata": {},
   "outputs": [
    {
     "data": {
      "text/plain": [
       "50.814509847756597"
      ]
     },
     "execution_count": 81,
     "metadata": {},
     "output_type": "execute_result"
    }
   ],
   "source": [
    "# Calculate MAE\n",
    "metrics.mean_absolute_error(test_y, pred_y_rffinal)"
   ]
  },
  {
   "cell_type": "code",
   "execution_count": 77,
   "metadata": {},
   "outputs": [
    {
     "data": {
      "text/plain": [
       "5054.1607750973653"
      ]
     },
     "execution_count": 77,
     "metadata": {},
     "output_type": "execute_result"
    }
   ],
   "source": [
    "# Calculate MSE\n",
    "metrics.regression.mean_squared_error(test_y, pred_y_rffinal)"
   ]
  },
  {
   "cell_type": "code",
   "execution_count": 79,
   "metadata": {},
   "outputs": [
    {
     "data": {
      "text/plain": [
       "0.36727378389106513"
      ]
     },
     "execution_count": 79,
     "metadata": {},
     "output_type": "execute_result"
    }
   ],
   "source": [
    "# Calculate R squared\n",
    "metrics.r2_score(test_y, pred_y_rffinal)"
   ]
  },
  {
   "cell_type": "markdown",
   "metadata": {},
   "source": [
    "## Evaluation"
   ]
  },
  {
   "cell_type": "code",
   "execution_count": 84,
   "metadata": {
    "collapsed": true
   },
   "outputs": [],
   "source": [
    "para = [model_knn.best_params_,\n",
    "            model_tree.best_params_,\n",
    "            model_ann.best_params_,\n",
    "            grid_rf.best_params_]\n",
    "\n",
    "mae = [metrics.mean_absolute_error(test_y_scale, pred_y_knnfinal),\n",
    "       metrics.mean_absolute_error(test_y, pred_y_treefinal),\n",
    "       metrics.mean_absolute_error(test_y_scale, pred_y_annfinal),\n",
    "       metrics.mean_absolute_error(test_y, pred_y_rffinal)]\n",
    "\n",
    "mse = [metrics.regression.mean_squared_error(test_y_scale, pred_y_knnfinal),\n",
    "       metrics.regression.mean_squared_error(test_y, pred_y_treefinal),\n",
    "       metrics.regression.mean_squared_error(test_y_scale, pred_y_annfinal),\n",
    "       metrics.regression.mean_squared_error(test_y, pred_y_rffinal)]\n",
    "\n",
    "r2 = [metrics.r2_score(test_y_scale, pred_y_knnfinal),\n",
    "      metrics.r2_score(test_y, pred_y_treefinal),\n",
    "      metrics.r2_score(test_y_scale, pred_y_annfinal),\n",
    "      metrics.r2_score(test_y, pred_y_rffinal)]"
   ]
  },
  {
   "cell_type": "code",
   "execution_count": 86,
   "metadata": {},
   "outputs": [
    {
     "data": {
      "text/html": [
       "<div>\n",
       "<style>\n",
       "    .dataframe thead tr:only-child th {\n",
       "        text-align: right;\n",
       "    }\n",
       "\n",
       "    .dataframe thead th {\n",
       "        text-align: left;\n",
       "    }\n",
       "\n",
       "    .dataframe tbody tr th {\n",
       "        vertical-align: top;\n",
       "    }\n",
       "</style>\n",
       "<table border=\"1\" class=\"dataframe\">\n",
       "  <thead>\n",
       "    <tr style=\"text-align: right;\">\n",
       "      <th></th>\n",
       "      <th>Mean Absolute Error</th>\n",
       "      <th>Mean Square Error</th>\n",
       "      <th>Parameters</th>\n",
       "      <th>R Squared</th>\n",
       "    </tr>\n",
       "  </thead>\n",
       "  <tbody>\n",
       "    <tr>\n",
       "      <th>K-Nearest Neighbors</th>\n",
       "      <td>0.108763</td>\n",
       "      <td>0.023143</td>\n",
       "      <td>{'algorithm': 'auto', 'n_neighbors': 7, 'weigh...</td>\n",
       "      <td>0.310037</td>\n",
       "    </tr>\n",
       "    <tr>\n",
       "      <th>Regression Tree</th>\n",
       "      <td>55.403142</td>\n",
       "      <td>5655.627521</td>\n",
       "      <td>{'min_samples_split': 80}</td>\n",
       "      <td>0.291977</td>\n",
       "    </tr>\n",
       "    <tr>\n",
       "      <th>Neural Network</th>\n",
       "      <td>0.117546</td>\n",
       "      <td>0.026274</td>\n",
       "      <td>{'hidden_layer_sizes': (300,)}</td>\n",
       "      <td>0.216678</td>\n",
       "    </tr>\n",
       "    <tr>\n",
       "      <th>Random Foreset</th>\n",
       "      <td>50.814510</td>\n",
       "      <td>5054.160775</td>\n",
       "      <td>{'max_features': 10, 'n_estimators': 400, 'ran...</td>\n",
       "      <td>0.367274</td>\n",
       "    </tr>\n",
       "  </tbody>\n",
       "</table>\n",
       "</div>"
      ],
      "text/plain": [
       "                     Mean Absolute Error  Mean Square Error  \\\n",
       "K-Nearest Neighbors             0.108763           0.023143   \n",
       "Regression Tree                55.403142        5655.627521   \n",
       "Neural Network                  0.117546           0.026274   \n",
       "Random Foreset                 50.814510        5054.160775   \n",
       "\n",
       "                                                            Parameters  \\\n",
       "K-Nearest Neighbors  {'algorithm': 'auto', 'n_neighbors': 7, 'weigh...   \n",
       "Regression Tree                              {'min_samples_split': 80}   \n",
       "Neural Network                          {'hidden_layer_sizes': (300,)}   \n",
       "Random Foreset       {'max_features': 10, 'n_estimators': 400, 'ran...   \n",
       "\n",
       "                     R Squared  \n",
       "K-Nearest Neighbors   0.310037  \n",
       "Regression Tree       0.291977  \n",
       "Neural Network        0.216678  \n",
       "Random Foreset        0.367274  "
      ]
     },
     "execution_count": 86,
     "metadata": {},
     "output_type": "execute_result"
    }
   ],
   "source": [
    "pd.DataFrame({'Mean Absolute Error':mae, 'Mean Square Error':mse, 'R Squared':r2, 'Parameters':para},\n",
    "             index = ['K-Nearest Neighbors','Regression Tree','Neural Network','Random Foreset'])"
   ]
  },
  {
   "cell_type": "code",
   "execution_count": null,
   "metadata": {
    "collapsed": true
   },
   "outputs": [],
   "source": []
  }
 ],
 "metadata": {
  "kernelspec": {
   "display_name": "Python 3",
   "language": "python",
   "name": "python3"
  },
  "language_info": {
   "codemirror_mode": {
    "name": "ipython",
    "version": 3
   },
   "file_extension": ".py",
   "mimetype": "text/x-python",
   "name": "python",
   "nbconvert_exporter": "python",
   "pygments_lexer": "ipython3",
   "version": "3.6.2"
  }
 },
 "nbformat": 4,
 "nbformat_minor": 2
}
